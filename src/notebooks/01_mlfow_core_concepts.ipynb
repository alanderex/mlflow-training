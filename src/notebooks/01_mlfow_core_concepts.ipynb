{
 "cells": [
  {
   "attachments": {},
   "cell_type": "markdown",
   "id": "de17c4d2-d2f5-4827-81da-c4c96655eb7e",
   "metadata": {},
   "source": [
    "# MLflow Core Concepts\n",
    "\n",
    "In this notebook you will build a model to predict the score quality of a wine given some physicochemical measurements. See [Cortez et al., 2009](http://www3.dsi.uminho.pt/pcortez/wine/) for more detail about the dataset. \n",
    "\n",
    "The goal of the notebook is to go through all the different stpes of putting a ML model to productions:\n",
    "* ingest the data\n",
    "* split the data for training and evaluation and test\n",
    "* transform the data for the model\n",
    "* train and evaluate the model\n",
    "* store the model\n",
    "* use the model above to predict on some new data (in batch or real-time)\n",
    "\n",
    "The goal of this notebook is to give some end-to-end flow. We are not trying to go very deep in any steps but show the overall flow. \n",
    "\n",
    "Along this notebook you will have some tasks that need to be completed. You will be able to find where they are in the code by searching for `# ToDo#: ...`\n",
    "\n",
    "In this notebooks you will be asked to:\n",
    "* ToDo1: add a column to the data frame that indicates if the wine is red or white\n",
    "* ToDo2: separate the target variable from the features\n",
    "* ToDo3: fit the preprocessing pipeline on the training data and transform the validation and test data\n",
    "* ToDo4: log the model and the preprocessing pipeline\n",
    "* ToDo5: log metrics to mlflow\n",
    "* ToDo6: log parameters to mlflow\n",
    "* ToDo7: go to see your model logged on mlflow and register the model in the UI and set the model stage to production\n",
    "* ToDo8: load the model from mlflow and make a prediction on the test data\n",
    "* ToDo9: set the model uri to the model you just registered\n",
    "* ToDo10: [To Go Further] rebuild a model using sklearn pipeline, log it to mlflow and deploy a serving endpoint\n",
    "\n",
    "If you need help you can browse through the following documentation:\n",
    "* [MLflow](https://mlflow.org/docs/latest/index.html)\n",
    "* [scikit-learn](https://scikit-learn.org/stable/)\n",
    "* [pandas](https://pandas.pydata.org/docs/)"
   ]
  },
  {
   "cell_type": "code",
   "execution_count": 1,
   "id": "16a59df6-2a5a-40f4-b048-3d22d970a736",
   "metadata": {
    "tags": []
   },
   "outputs": [],
   "source": [
    "import mlflow\n",
    "import pandas as pd\n",
    "from sklearn.model_selection import train_test_split\n",
    "from sklearn.linear_model import LinearRegression\n",
    "from sklearn.compose import ColumnTransformer\n",
    "from sklearn.preprocessing import StandardScaler\n",
    "from sklearn.pipeline import Pipeline\n",
    "import os\n",
    "from sklearn.metrics import mean_absolute_error, mean_squared_error, r2_score\n",
    "from sklearn.base import RegressorMixin\n",
    "from sklearn.base import BaseEstimator\n"
   ]
  },
  {
   "cell_type": "code",
   "execution_count": 2,
   "id": "ebfe7249-048e-48d7-aa47-31ba4c2ff139",
   "metadata": {
    "tags": []
   },
   "outputs": [
    {
     "data": {
      "text/plain": [
       "True"
      ]
     },
     "execution_count": 2,
     "metadata": {},
     "output_type": "execute_result"
    }
   ],
   "source": [
    "# Note: please change the directory if you are not using a dev container.\n",
    "# We want to have the working directory to be the src folder in the mlflow-trainng repo\n",
    "os.chdir(\"/workspaces/mlflow-training/src\")\n",
    "\n",
    "\n",
    "# setup mlflow to use the same setting than in the recipe in notebook 02\n",
    "from steps.utils import setup_mlflow\n",
    "\n",
    "setup_mlflow(\n",
    "    experiment_name=\"wine_score_notebook\",\n",
    ")\n"
   ]
  },
  {
   "cell_type": "markdown",
   "id": "38a0331f-d035-434c-887e-c6a75aab8d8f",
   "metadata": {
    "tags": []
   },
   "source": [
    "## Ingest data"
   ]
  },
  {
   "cell_type": "code",
   "execution_count": 3,
   "id": "3d5ea347-a483-447e-ae92-2fb25374b2ae",
   "metadata": {
    "tags": []
   },
   "outputs": [
    {
     "data": {
      "text/html": [
       "<div>\n",
       "<style scoped>\n",
       "    .dataframe tbody tr th:only-of-type {\n",
       "        vertical-align: middle;\n",
       "    }\n",
       "\n",
       "    .dataframe tbody tr th {\n",
       "        vertical-align: top;\n",
       "    }\n",
       "\n",
       "    .dataframe thead th {\n",
       "        text-align: right;\n",
       "    }\n",
       "</style>\n",
       "<table border=\"1\" class=\"dataframe\">\n",
       "  <thead>\n",
       "    <tr style=\"text-align: right;\">\n",
       "      <th></th>\n",
       "      <th>fixed acidity</th>\n",
       "      <th>volatile acidity</th>\n",
       "      <th>citric acid</th>\n",
       "      <th>residual sugar</th>\n",
       "      <th>chlorides</th>\n",
       "      <th>free sulfur dioxide</th>\n",
       "      <th>total sulfur dioxide</th>\n",
       "      <th>density</th>\n",
       "      <th>pH</th>\n",
       "      <th>sulphates</th>\n",
       "      <th>alcohol</th>\n",
       "      <th>quality</th>\n",
       "      <th>is_red</th>\n",
       "    </tr>\n",
       "  </thead>\n",
       "  <tbody>\n",
       "    <tr>\n",
       "      <th>0</th>\n",
       "      <td>7.4</td>\n",
       "      <td>0.70</td>\n",
       "      <td>0.00</td>\n",
       "      <td>1.9</td>\n",
       "      <td>0.076</td>\n",
       "      <td>11.0</td>\n",
       "      <td>34.0</td>\n",
       "      <td>0.99780</td>\n",
       "      <td>3.51</td>\n",
       "      <td>0.56</td>\n",
       "      <td>9.4</td>\n",
       "      <td>5</td>\n",
       "      <td>1</td>\n",
       "    </tr>\n",
       "    <tr>\n",
       "      <th>1</th>\n",
       "      <td>7.8</td>\n",
       "      <td>0.88</td>\n",
       "      <td>0.00</td>\n",
       "      <td>2.6</td>\n",
       "      <td>0.098</td>\n",
       "      <td>25.0</td>\n",
       "      <td>67.0</td>\n",
       "      <td>0.99680</td>\n",
       "      <td>3.20</td>\n",
       "      <td>0.68</td>\n",
       "      <td>9.8</td>\n",
       "      <td>5</td>\n",
       "      <td>1</td>\n",
       "    </tr>\n",
       "    <tr>\n",
       "      <th>2</th>\n",
       "      <td>7.8</td>\n",
       "      <td>0.76</td>\n",
       "      <td>0.04</td>\n",
       "      <td>2.3</td>\n",
       "      <td>0.092</td>\n",
       "      <td>15.0</td>\n",
       "      <td>54.0</td>\n",
       "      <td>0.99700</td>\n",
       "      <td>3.26</td>\n",
       "      <td>0.65</td>\n",
       "      <td>9.8</td>\n",
       "      <td>5</td>\n",
       "      <td>1</td>\n",
       "    </tr>\n",
       "    <tr>\n",
       "      <th>3</th>\n",
       "      <td>11.2</td>\n",
       "      <td>0.28</td>\n",
       "      <td>0.56</td>\n",
       "      <td>1.9</td>\n",
       "      <td>0.075</td>\n",
       "      <td>17.0</td>\n",
       "      <td>60.0</td>\n",
       "      <td>0.99800</td>\n",
       "      <td>3.16</td>\n",
       "      <td>0.58</td>\n",
       "      <td>9.8</td>\n",
       "      <td>6</td>\n",
       "      <td>1</td>\n",
       "    </tr>\n",
       "    <tr>\n",
       "      <th>4</th>\n",
       "      <td>7.4</td>\n",
       "      <td>0.70</td>\n",
       "      <td>0.00</td>\n",
       "      <td>1.9</td>\n",
       "      <td>0.076</td>\n",
       "      <td>11.0</td>\n",
       "      <td>34.0</td>\n",
       "      <td>0.99780</td>\n",
       "      <td>3.51</td>\n",
       "      <td>0.56</td>\n",
       "      <td>9.4</td>\n",
       "      <td>5</td>\n",
       "      <td>1</td>\n",
       "    </tr>\n",
       "    <tr>\n",
       "      <th>...</th>\n",
       "      <td>...</td>\n",
       "      <td>...</td>\n",
       "      <td>...</td>\n",
       "      <td>...</td>\n",
       "      <td>...</td>\n",
       "      <td>...</td>\n",
       "      <td>...</td>\n",
       "      <td>...</td>\n",
       "      <td>...</td>\n",
       "      <td>...</td>\n",
       "      <td>...</td>\n",
       "      <td>...</td>\n",
       "      <td>...</td>\n",
       "    </tr>\n",
       "    <tr>\n",
       "      <th>4893</th>\n",
       "      <td>6.2</td>\n",
       "      <td>0.21</td>\n",
       "      <td>0.29</td>\n",
       "      <td>1.6</td>\n",
       "      <td>0.039</td>\n",
       "      <td>24.0</td>\n",
       "      <td>92.0</td>\n",
       "      <td>0.99114</td>\n",
       "      <td>3.27</td>\n",
       "      <td>0.50</td>\n",
       "      <td>11.2</td>\n",
       "      <td>6</td>\n",
       "      <td>0</td>\n",
       "    </tr>\n",
       "    <tr>\n",
       "      <th>4894</th>\n",
       "      <td>6.6</td>\n",
       "      <td>0.32</td>\n",
       "      <td>0.36</td>\n",
       "      <td>8.0</td>\n",
       "      <td>0.047</td>\n",
       "      <td>57.0</td>\n",
       "      <td>168.0</td>\n",
       "      <td>0.99490</td>\n",
       "      <td>3.15</td>\n",
       "      <td>0.46</td>\n",
       "      <td>9.6</td>\n",
       "      <td>5</td>\n",
       "      <td>0</td>\n",
       "    </tr>\n",
       "    <tr>\n",
       "      <th>4895</th>\n",
       "      <td>6.5</td>\n",
       "      <td>0.24</td>\n",
       "      <td>0.19</td>\n",
       "      <td>1.2</td>\n",
       "      <td>0.041</td>\n",
       "      <td>30.0</td>\n",
       "      <td>111.0</td>\n",
       "      <td>0.99254</td>\n",
       "      <td>2.99</td>\n",
       "      <td>0.46</td>\n",
       "      <td>9.4</td>\n",
       "      <td>6</td>\n",
       "      <td>0</td>\n",
       "    </tr>\n",
       "    <tr>\n",
       "      <th>4896</th>\n",
       "      <td>5.5</td>\n",
       "      <td>0.29</td>\n",
       "      <td>0.30</td>\n",
       "      <td>1.1</td>\n",
       "      <td>0.022</td>\n",
       "      <td>20.0</td>\n",
       "      <td>110.0</td>\n",
       "      <td>0.98869</td>\n",
       "      <td>3.34</td>\n",
       "      <td>0.38</td>\n",
       "      <td>12.8</td>\n",
       "      <td>7</td>\n",
       "      <td>0</td>\n",
       "    </tr>\n",
       "    <tr>\n",
       "      <th>4897</th>\n",
       "      <td>6.0</td>\n",
       "      <td>0.21</td>\n",
       "      <td>0.38</td>\n",
       "      <td>0.8</td>\n",
       "      <td>0.020</td>\n",
       "      <td>22.0</td>\n",
       "      <td>98.0</td>\n",
       "      <td>0.98941</td>\n",
       "      <td>3.26</td>\n",
       "      <td>0.32</td>\n",
       "      <td>11.8</td>\n",
       "      <td>6</td>\n",
       "      <td>0</td>\n",
       "    </tr>\n",
       "  </tbody>\n",
       "</table>\n",
       "<p>6497 rows × 13 columns</p>\n",
       "</div>"
      ],
      "text/plain": [
       "      fixed acidity  volatile acidity  citric acid  residual sugar  chlorides  \\\n",
       "0               7.4              0.70         0.00             1.9      0.076   \n",
       "1               7.8              0.88         0.00             2.6      0.098   \n",
       "2               7.8              0.76         0.04             2.3      0.092   \n",
       "3              11.2              0.28         0.56             1.9      0.075   \n",
       "4               7.4              0.70         0.00             1.9      0.076   \n",
       "...             ...               ...          ...             ...        ...   \n",
       "4893            6.2              0.21         0.29             1.6      0.039   \n",
       "4894            6.6              0.32         0.36             8.0      0.047   \n",
       "4895            6.5              0.24         0.19             1.2      0.041   \n",
       "4896            5.5              0.29         0.30             1.1      0.022   \n",
       "4897            6.0              0.21         0.38             0.8      0.020   \n",
       "\n",
       "      free sulfur dioxide  total sulfur dioxide  density    pH  sulphates  \\\n",
       "0                    11.0                  34.0  0.99780  3.51       0.56   \n",
       "1                    25.0                  67.0  0.99680  3.20       0.68   \n",
       "2                    15.0                  54.0  0.99700  3.26       0.65   \n",
       "3                    17.0                  60.0  0.99800  3.16       0.58   \n",
       "4                    11.0                  34.0  0.99780  3.51       0.56   \n",
       "...                   ...                   ...      ...   ...        ...   \n",
       "4893                 24.0                  92.0  0.99114  3.27       0.50   \n",
       "4894                 57.0                 168.0  0.99490  3.15       0.46   \n",
       "4895                 30.0                 111.0  0.99254  2.99       0.46   \n",
       "4896                 20.0                 110.0  0.98869  3.34       0.38   \n",
       "4897                 22.0                  98.0  0.98941  3.26       0.32   \n",
       "\n",
       "      alcohol  quality  is_red  \n",
       "0         9.4        5       1  \n",
       "1         9.8        5       1  \n",
       "2         9.8        5       1  \n",
       "3         9.8        6       1  \n",
       "4         9.4        5       1  \n",
       "...       ...      ...     ...  \n",
       "4893     11.2        6       0  \n",
       "4894      9.6        5       0  \n",
       "4895      9.4        6       0  \n",
       "4896     12.8        7       0  \n",
       "4897     11.8        6       0  \n",
       "\n",
       "[6497 rows x 13 columns]"
      ]
     },
     "execution_count": 3,
     "metadata": {},
     "output_type": "execute_result"
    }
   ],
   "source": [
    "red_df = pd.read_csv(\n",
    "    \"http://archive.ics.uci.edu/ml/machine-learning-databases/wine-quality/winequality-red.csv\",\n",
    "    sep=\";\",\n",
    ")\n",
    "\n",
    "white_df = pd.read_csv(\n",
    "    \"http://archive.ics.uci.edu/ml/machine-learning-databases/wine-quality/winequality-white.csv\",\n",
    "    sep=\";\",\n",
    ")\n",
    "# ToDo1: add a column to the data frame that indicates if the wine is red or white\n",
    "red_df[\"is_red\"] = 1\n",
    "white_df[\"is_red\"] = 0\n",
    "\n",
    "df = pd.concat([red_df, white_df])\n",
    "df\n"
   ]
  },
  {
   "cell_type": "markdown",
   "id": "07734044-b50c-4269-9050-69014e7735ab",
   "metadata": {
    "tags": []
   },
   "source": [
    "## Split data\n",
    "\n",
    "We want to split the data to have the following proportion:\n",
    "- 80% training\n",
    "- 10% evaluation\n",
    "- 10% test"
   ]
  },
  {
   "cell_type": "code",
   "execution_count": 4,
   "id": "b6752cce-edc0-448e-b08a-d23cd240214f",
   "metadata": {
    "tags": []
   },
   "outputs": [],
   "source": [
    "# ToDo2: separate the target variable from the features\n",
    "y = df[[\"quality\"]]\n",
    "X = df.drop(\"quality\", axis=1, inplace=False)\n",
    "\n",
    "X_train, X_test_val, y_train, y_test_val = train_test_split(\n",
    "    X, y, test_size=0.2, random_state=42\n",
    ")\n",
    "X_val, X_test, y_val, y_test = train_test_split(\n",
    "    X_test_val, y_test_val, test_size=0.5, random_state=42\n",
    ")\n"
   ]
  },
  {
   "cell_type": "markdown",
   "id": "07d8d073-e665-45d8-a3d1-3923705623e6",
   "metadata": {},
   "source": [
    "## Transform data\n",
    "\n",
    "Apply a preprocessing step to by removing the mean and scaling to unit variance. "
   ]
  },
  {
   "cell_type": "code",
   "execution_count": 5,
   "id": "c0903478-25e9-4c83-97ce-13c67cb6fd52",
   "metadata": {
    "tags": []
   },
   "outputs": [],
   "source": [
    "preprocessing_pipeline = Pipeline(\n",
    "    [\n",
    "        (\n",
    "            \"ct\",\n",
    "            ColumnTransformer(\n",
    "                [\n",
    "                    (\n",
    "                        \"minmax\",\n",
    "                        StandardScaler(),\n",
    "                        X_train.columns,\n",
    "                    ),\n",
    "                ]\n",
    "            ),\n",
    "        )\n",
    "    ]\n",
    ")\n",
    "\n",
    "# ToDo3: fit the preprocessing pipeline on the training data and transform the validation and test data\n",
    "X_train_processed = preprocessing_pipeline.fit_transform(X_train)\n",
    "X_val_processed = preprocessing_pipeline.transform(X_val)\n",
    "X_test_processed = preprocessing_pipeline.transform(X_test)\n"
   ]
  },
  {
   "cell_type": "markdown",
   "id": "2d95b27b-5654-4281-8413-e1dc07410cb0",
   "metadata": {},
   "source": [
    "## Train model"
   ]
  },
  {
   "cell_type": "code",
   "execution_count": 6,
   "id": "4b4b097a-579a-484b-8b36-972610a5f4a9",
   "metadata": {
    "tags": []
   },
   "outputs": [],
   "source": [
    "model = LinearRegression()\n"
   ]
  },
  {
   "cell_type": "code",
   "execution_count": 7,
   "id": "f580b8f1",
   "metadata": {},
   "outputs": [],
   "source": [
    "def log_metrics(\n",
    "    model: RegressorMixin, X: pd.DataFrame, y: pd.Series, suffix: str = \"test\"\n",
    ") -> dict:\n",
    "    \"\"\"Log model perfomance on dataset\"\"\"\n",
    "    y_pred = model.predict(X)\n",
    "    mae = mean_absolute_error(y, y_pred)\n",
    "    mse = mean_squared_error(y, y_pred)\n",
    "    r2 = r2_score(y, y_pred)\n",
    "    metrics = {\n",
    "        f\"{suffix}.mean_absolute_error\": mae,\n",
    "        f\"{suffix}.mean_squared_error\": mse,\n",
    "        f\"{suffix}.r2_score\": r2,\n",
    "    }\n",
    "    # ToDo5: log metrics to mlflow\n",
    "    mlflow.log_metrics(metrics)\n",
    "    return metrics\n"
   ]
  },
  {
   "cell_type": "code",
   "execution_count": 8,
   "id": "72dfb29f",
   "metadata": {},
   "outputs": [],
   "source": [
    "def log_parameters(\n",
    "    model: BaseEstimator,\n",
    ") -> dict:\n",
    "    \"\"\"Log parameters of interest of the model\"\"\"\n",
    "    model_params = model.get_params()\n",
    "\n",
    "    # ToDo6: log parameters to mlflow\n",
    "    mlflow.log_params(model_params)\n",
    "    return model_params\n"
   ]
  },
  {
   "cell_type": "code",
   "execution_count": 9,
   "id": "3b882852-131c-427a-9b34-67b95923bde4",
   "metadata": {
    "tags": []
   },
   "outputs": [
    {
     "name": "stderr",
     "output_type": "stream",
     "text": [
      "2023/05/31 19:36:13 INFO mlflow.tracking.fluent: Autologging successfully enabled for sklearn.\n",
      "2023/05/31 19:36:13 INFO mlflow.tracking.fluent: Autologging successfully enabled for pyspark.\n",
      "2023/05/31 19:36:18 WARNING mlflow.utils.autologging_utils: MLflow autologging encountered a warning: \"/usr/local/lib/python3.10/site-packages/_distutils_hack/__init__.py:33: UserWarning: Setuptools is replacing distutils.\"\n",
      "2023/05/31 19:36:18 WARNING mlflow.sklearn: Model was missing function: predict. Not logging python_function flavor!\n"
     ]
    }
   ],
   "source": [
    "mlflow.autolog(log_input_examples=True)\n",
    "with mlflow.start_run() as run:\n",
    "    model.fit(X_train_processed, y_train)\n",
    "    # ToDo4: log the model and the preprocessing pipeline\n",
    "    mlflow.sklearn.log_model(\n",
    "        preprocessing_pipeline, artifact_path=\"preprocessing_pipeline\"\n",
    "    )\n",
    "    # Note: the model is automatically logged by mlflow with autolog when we fit the model\n",
    "    mlflow.sklearn.log_model(model, artifact_path=\"regressor\")\n",
    "\n",
    "    # ToDo5: log metrics to mlflow (see above)\n",
    "    log_metrics(model, X_val_processed, y_val, suffix=\"val\")\n",
    "    log_metrics(model, X_test_processed, y_test, suffix=\"test\")\n",
    "    # ToDo6: log metrics on the validation data\n",
    "    log_parameters(model)\n",
    "\n",
    "    # Note: we store the run id to be able to retrieve the run later\n",
    "    mlflow_run_id = run.info.run_id\n",
    "\n",
    "mlflow.autolog(disable=True)\n"
   ]
  },
  {
   "cell_type": "code",
   "execution_count": 10,
   "id": "96cec48a",
   "metadata": {},
   "outputs": [
    {
     "name": "stdout",
     "output_type": "stream",
     "text": [
      "Please copy the command below in a new terminal on your IDE and let it run until the end of the notebook \n",
      "\n",
      "mlflow server \\\n",
      "    --backend-store-uri sqlite:///src/metadata/mlflow/mlruns.db \\\n",
      "    --default-artifact-root ./src/metadata/mlflow/mlartifacts \\\n",
      "    --host 0.0.0.0 \\\n",
      "    --port 5000\n"
     ]
    }
   ],
   "source": [
    "print(\n",
    "    \"Please copy the command below in a new terminal on your IDE and let it run until the end of the notebook \\n\"\n",
    ")\n",
    "\n",
    "print(\"mlflow server \\\\\")\n",
    "print(\"    --backend-store-uri sqlite:///src/metadata/mlflow/mlruns.db \\\\\")\n",
    "print(\"    --default-artifact-root ./src/metadata/mlflow/mlartifacts \\\\\")\n",
    "print(\"    --host 0.0.0.0 \\\\\")\n",
    "print(\"    --port 5000\")\n",
    "\n",
    "# ToDo7: go to see your model logged on mlflow and register the model in the UI and set the model stage to production\n",
    "# Note: mlflow ui by going to http://localhost:5000/ or http://0.0.0.0:5000/ in your browser\n"
   ]
  },
  {
   "cell_type": "markdown",
   "id": "452b150c-4d7c-4ee8-9bec-6c04070c8b4b",
   "metadata": {},
   "source": [
    "## Predict with trained model"
   ]
  },
  {
   "cell_type": "markdown",
   "id": "1868c59b-3ad1-4464-9991-bda9193f47c6",
   "metadata": {},
   "source": [
    "### Predict on batch inference"
   ]
  },
  {
   "cell_type": "code",
   "execution_count": 11,
   "id": "9f11fe35-e3fb-4626-99ff-7bfdc0cd45e4",
   "metadata": {
    "tags": []
   },
   "outputs": [
    {
     "name": "stdout",
     "output_type": "stream",
     "text": [
      "Model path = runs:/6e928de1ec974bddaa1bd42ccaa78193/model/\n"
     ]
    },
    {
     "data": {
      "text/html": [
       "<div>\n",
       "<style scoped>\n",
       "    .dataframe tbody tr th:only-of-type {\n",
       "        vertical-align: middle;\n",
       "    }\n",
       "\n",
       "    .dataframe tbody tr th {\n",
       "        vertical-align: top;\n",
       "    }\n",
       "\n",
       "    .dataframe thead th {\n",
       "        text-align: right;\n",
       "    }\n",
       "</style>\n",
       "<table border=\"1\" class=\"dataframe\">\n",
       "  <thead>\n",
       "    <tr style=\"text-align: right;\">\n",
       "      <th></th>\n",
       "      <th>prediction</th>\n",
       "      <th>quality</th>\n",
       "    </tr>\n",
       "  </thead>\n",
       "  <tbody>\n",
       "    <tr>\n",
       "      <th>0</th>\n",
       "      <td>5.945335</td>\n",
       "      <td>6</td>\n",
       "    </tr>\n",
       "    <tr>\n",
       "      <th>1</th>\n",
       "      <td>5.694131</td>\n",
       "      <td>6</td>\n",
       "    </tr>\n",
       "    <tr>\n",
       "      <th>2</th>\n",
       "      <td>6.072289</td>\n",
       "      <td>6</td>\n",
       "    </tr>\n",
       "    <tr>\n",
       "      <th>3</th>\n",
       "      <td>5.364762</td>\n",
       "      <td>6</td>\n",
       "    </tr>\n",
       "    <tr>\n",
       "      <th>4</th>\n",
       "      <td>5.822099</td>\n",
       "      <td>6</td>\n",
       "    </tr>\n",
       "    <tr>\n",
       "      <th>...</th>\n",
       "      <td>...</td>\n",
       "      <td>...</td>\n",
       "    </tr>\n",
       "    <tr>\n",
       "      <th>645</th>\n",
       "      <td>6.319968</td>\n",
       "      <td>6</td>\n",
       "    </tr>\n",
       "    <tr>\n",
       "      <th>646</th>\n",
       "      <td>5.185846</td>\n",
       "      <td>6</td>\n",
       "    </tr>\n",
       "    <tr>\n",
       "      <th>647</th>\n",
       "      <td>5.630085</td>\n",
       "      <td>5</td>\n",
       "    </tr>\n",
       "    <tr>\n",
       "      <th>648</th>\n",
       "      <td>6.627817</td>\n",
       "      <td>7</td>\n",
       "    </tr>\n",
       "    <tr>\n",
       "      <th>649</th>\n",
       "      <td>6.294756</td>\n",
       "      <td>6</td>\n",
       "    </tr>\n",
       "  </tbody>\n",
       "</table>\n",
       "<p>650 rows × 2 columns</p>\n",
       "</div>"
      ],
      "text/plain": [
       "     prediction  quality\n",
       "0      5.945335        6\n",
       "1      5.694131        6\n",
       "2      6.072289        6\n",
       "3      5.364762        6\n",
       "4      5.822099        6\n",
       "..          ...      ...\n",
       "645    6.319968        6\n",
       "646    5.185846        6\n",
       "647    5.630085        5\n",
       "648    6.627817        7\n",
       "649    6.294756        6\n",
       "\n",
       "[650 rows x 2 columns]"
      ]
     },
     "execution_count": 11,
     "metadata": {},
     "output_type": "execute_result"
    }
   ],
   "source": [
    "# ToDo8: load the model from mlflow and make a prediction on the test data\n",
    "print(f\"Model path = runs:/{mlflow_run_id}/model/\")\n",
    "loaded_model = mlflow.sklearn.load_model(f\"runs:/{mlflow_run_id}/model/\")\n",
    "predictions = pd.DataFrame(\n",
    "    loaded_model.predict(X_test_processed), columns=[\"prediction\"]\n",
    ")\n",
    "predictions[\"quality\"] = y_test[\"quality\"].values\n",
    "predictions\n"
   ]
  },
  {
   "attachments": {},
   "cell_type": "markdown",
   "id": "fa407eec-4161-4474-ad54-51cc5b4add9a",
   "metadata": {},
   "source": [
    "### Predict in real time\n",
    "\n",
    "We can also use the mlflow model to do rediction in real-time. To do so we will need to:\n",
    "1. run an mlflow server to be able to distribute the model (already done above)\n",
    "2. create a serving enpoint which will pull the model from mlflow server\n",
    "3. finally we can query our model in real time using `curl`"
   ]
  },
  {
   "cell_type": "code",
   "execution_count": 12,
   "id": "a5a5cc1f-b3f0-4fc0-92a3-b983ecefc063",
   "metadata": {
    "tags": []
   },
   "outputs": [
    {
     "name": "stdout",
     "output_type": "stream",
     "text": [
      "Please copy the command below in a new terminal on your IDE \n",
      "\n",
      "MLFLOW_TRACKING_URI=http://0.0.0.0:5000 mlflow models serve \\\n",
      "      --host=0.0.0.0 \\\n",
      "      --port=5001 \\\n",
      "      --env-manager=local \\\n",
      "      --model-uri runs:/6e928de1ec974bddaa1bd42ccaa78193/model/\n"
     ]
    }
   ],
   "source": [
    "print(\"Please copy the command below in a new terminal on your IDE \\n\")\n",
    "\n",
    "print(\"MLFLOW_TRACKING_URI=http://0.0.0.0:5000 mlflow models serve \\\\\")\n",
    "print(\"      --host=0.0.0.0 \\\\\")\n",
    "print(\"      --port=5001 \\\\\")\n",
    "print(\"      --env-manager=local \\\\\")\n",
    "# ToDo9: set the model uri to the model you just registered\n",
    "print(f\"      --model-uri runs:/{mlflow_run_id}/model/\")\n"
   ]
  },
  {
   "cell_type": "code",
   "execution_count": 13,
   "id": "ba4a2491-2e31-4416-a690-304c8d7f204b",
   "metadata": {
    "tags": []
   },
   "outputs": [
    {
     "name": "stdout",
     "output_type": "stream",
     "text": [
      "You can copy the command below on one of your terminal \n",
      "\n",
      "curl http://0.0.0.0:5001/invocations -H 'Content-Type: application/json' -d '{\"dataframe_records\": [{\"0\":0.7738688092,\"1\":-0.8461749496,\"2\":0.2745893897,\"3\":0.5480123276,\"4\":-0.5979451988,\"5\":1.6879744754,\"6\":0.8423490573,\"7\":0.1692239584,\"8\":-1.0460083335,\"9\":-1.5541818503,\"10\":-0.154123837,\"11\":-0.5651286567},{\"0\":0.0751888016,\"1\":0.0171458612,\"2\":-0.140147658,\"3\":0.8190646823,\"4\":0.0337640161,\"5\":0.1969664016,\"6\":1.1095544349,\"7\":0.2822422616,\"8\":-0.4194907278,\"9\":-0.6123499532,\"10\":-0.0701790489,\"11\":-0.5651286567},{\"0\":1.8607043766,\"1\":0.5104720389,\"2\":0.2054665484,\"3\":-0.7029985403,\"4\":0.7803294518,\"5\":-0.7779234928,\"6\":-1.3843624235,\"7\":0.5082788679,\"8\":0.0817233567,\"9\":0.8676715995,\"10\":0.5174344676,\"11\":1.769508568},{\"0\":2.4041221603,\"1\":1.5587901663,\"2\":0.6893264375,\"3\":-0.5570472724,\"4\":0.9813278384,\"5\":0.254312866,\"6\":-0.7608832089,\"7\":1.4323696995,\"8\":0.3949821596,\"9\":1.1367664272,\"10\":-0.8256821416,\"11\":1.769508568}]}'\n"
     ]
    }
   ],
   "source": [
    "print(\"You can copy the command below on one of your terminal \\n\")\n",
    "\n",
    "request_data = pd.DataFrame(X_test_processed).iloc[0:4].to_json(orient=\"records\")\n",
    "print(\n",
    "    \"\"\"curl http://0.0.0.0:5001/invocations -H 'Content-Type: application/json' -d '{\"dataframe_records\": \"\"\"\n",
    "    + request_data\n",
    "    + \"\"\"}'\"\"\"\n",
    ")\n"
   ]
  },
  {
   "attachments": {},
   "cell_type": "markdown",
   "id": "00ad5a65",
   "metadata": {},
   "source": [
    "Congratulation! You made it! \n",
    "\n",
    "If you still have some time you can take a big breach and try to help the people around you. \n",
    "\n",
    "Or if you like you can try to improve on what you already did and see what could be added "
   ]
  },
  {
   "cell_type": "markdown",
   "id": "4f55bb47-0a1e-410b-92ff-81de708ee77c",
   "metadata": {},
   "source": [
    "## To Go Further\n",
    "\n",
    "You can try to combine the transformer and the predictor together in the same sklearn pipeline. "
   ]
  },
  {
   "cell_type": "code",
   "execution_count": 14,
   "id": "37a05828-ddea-4353-a33a-6698ef7b3a20",
   "metadata": {},
   "outputs": [
    {
     "name": "stderr",
     "output_type": "stream",
     "text": [
      "2023/05/31 19:36:26 INFO mlflow.tracking.fluent: Autologging successfully enabled for sklearn.\n",
      "2023/05/31 19:36:26 INFO mlflow.tracking.fluent: Autologging successfully enabled for pyspark.\n",
      "2023/05/31 19:36:26 WARNING mlflow.utils.autologging_utils: MLflow autologging encountered a warning: \"/home/nonroot/.local/lib/python3.10/site-packages/mlflow/models/signature.py:137: UserWarning: Hint: Inferred schema contains integer column(s). Integer columns in Python cannot represent missing values. If your input data contains missing values at inference time, it will be encoded as floats and will cause a schema enforcement error. The best way to avoid this problem is to infer the model schema based on a realistic data sample (training dataset) that includes missing values. Alternatively, you can declare integer columns as doubles (float64) whenever these columns may have missing values. See `Handling Integers With Missing Values <https://www.mlflow.org/docs/latest/models.html#handling-integers-with-missing-values>`_ for more details.\"\n"
     ]
    }
   ],
   "source": [
    "# ToDo10: [To Go Further] rebuild a model using sklearn pipeline, log it to mlflow and deploy a serving endpoint\n",
    "setup_mlflow(\n",
    "    experiment_name=\"wine_score_pipeline_notebook\",\n",
    ")\n",
    "pipe = Pipeline(\n",
    "    [\n",
    "        (\n",
    "            \"ct\",\n",
    "            ColumnTransformer(\n",
    "                [\n",
    "                    (\n",
    "                        \"minmax\",\n",
    "                        StandardScaler(),\n",
    "                        X_train.columns,\n",
    "                    ),\n",
    "                ]\n",
    "            ),\n",
    "        ),\n",
    "        (\"reg\", LinearRegression()),\n",
    "    ]\n",
    ")\n",
    "\n",
    "mlflow.autolog(log_input_examples=True)\n",
    "with mlflow.start_run() as run:\n",
    "    pipe.fit(X_train, y_train)\n",
    "\n",
    "    log_metrics(pipe, X_val, y_val, suffix=\"val\")\n",
    "    log_metrics(pipe, X_test, y_test, suffix=\"test\")\n",
    "    log_parameters(pipe)\n",
    "\n",
    "    # Note: we store the run id to be able to retrieve the run later\n",
    "    mlflow_run_id = run.info.run_id\n",
    "\n",
    "mlflow.autolog(disable=True)\n"
   ]
  },
  {
   "cell_type": "code",
   "execution_count": 15,
   "id": "b0db8217",
   "metadata": {},
   "outputs": [
    {
     "name": "stdout",
     "output_type": "stream",
     "text": [
      "MLFLOW_TRACKING_URI=http://0.0.0.0:5000 mlflow models serve \\\n",
      "      --host=0.0.0.0 \\\n",
      "      --port=5002 \\\n",
      "      --env-manager=local \\\n",
      "      --model-uri runs:/b8a58307b8ca45138e49474622f44ce4/model/\n"
     ]
    }
   ],
   "source": [
    "print(\"MLFLOW_TRACKING_URI=http://0.0.0.0:5000 mlflow models serve \\\\\")\n",
    "print(\"      --host=0.0.0.0 \\\\\")\n",
    "print(\"      --port=5002 \\\\\")\n",
    "print(\"      --env-manager=local \\\\\")\n",
    "print(f\"      --model-uri runs:/{mlflow_run_id}/model/\")\n"
   ]
  },
  {
   "cell_type": "code",
   "execution_count": 16,
   "id": "9170121a",
   "metadata": {},
   "outputs": [
    {
     "name": "stdout",
     "output_type": "stream",
     "text": [
      "You can copy the command below on one of your terminal \n",
      "\n",
      "curl http://0.0.0.0:5002/invocations -H 'Content-Type: application/json' -d '{\"dataframe_records\": [{\"fixed acidity\":8.2,\"volatile acidity\":0.2,\"citric acid\":0.36,\"residual sugar\":8.1,\"chlorides\":0.035,\"free sulfur dioxide\":60.0,\"total sulfur dioxide\":163.0,\"density\":0.9952,\"pH\":3.05,\"sulphates\":0.3,\"alcohol\":10.3,\"is_red\":0},{\"fixed acidity\":7.3,\"volatile acidity\":0.34,\"citric acid\":0.3,\"residual sugar\":9.4,\"chlorides\":0.057,\"free sulfur dioxide\":34.0,\"total sulfur dioxide\":178.0,\"density\":0.99554,\"pH\":3.15,\"sulphates\":0.44,\"alcohol\":10.4,\"is_red\":0},{\"fixed acidity\":9.6,\"volatile acidity\":0.42,\"citric acid\":0.35,\"residual sugar\":2.1,\"chlorides\":0.083,\"free sulfur dioxide\":17.0,\"total sulfur dioxide\":38.0,\"density\":0.99622,\"pH\":3.23,\"sulphates\":0.66,\"alcohol\":11.1,\"is_red\":1},{\"fixed acidity\":10.3,\"volatile acidity\":0.59,\"citric acid\":0.42,\"residual sugar\":2.8,\"chlorides\":0.09,\"free sulfur dioxide\":35.0,\"total sulfur dioxide\":73.0,\"density\":0.999,\"pH\":3.28,\"sulphates\":0.7,\"alcohol\":9.5,\"is_red\":1}]}'\n"
     ]
    }
   ],
   "source": [
    "print(\"You can copy the command below on one of your terminal \\n\")\n",
    "\n",
    "request_data = X_test.iloc[0:4].to_json(orient=\"records\")\n",
    "print(\n",
    "    \"\"\"curl http://0.0.0.0:5002/invocations -H 'Content-Type: application/json' -d '{\"dataframe_records\": \"\"\"\n",
    "    + request_data\n",
    "    + \"\"\"}'\"\"\"\n",
    ")\n"
   ]
  },
  {
   "cell_type": "code",
   "execution_count": null,
   "id": "3dcbe532",
   "metadata": {},
   "outputs": [],
   "source": []
  }
 ],
 "metadata": {
  "kernelspec": {
   "display_name": "Python 3 (ipykernel)",
   "language": "python",
   "name": "python3"
  },
  "language_info": {
   "codemirror_mode": {
    "name": "ipython",
    "version": 3
   },
   "file_extension": ".py",
   "mimetype": "text/x-python",
   "name": "python",
   "nbconvert_exporter": "python",
   "pygments_lexer": "ipython3",
   "version": "3.10.11"
  }
 },
 "nbformat": 4,
 "nbformat_minor": 5
}
